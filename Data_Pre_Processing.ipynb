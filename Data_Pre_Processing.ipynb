{
  "nbformat": 4,
  "nbformat_minor": 0,
  "metadata": {
    "colab": {
      "provenance": []
    },
    "kernelspec": {
      "name": "python3",
      "display_name": "Python 3"
    },
    "language_info": {
      "name": "python"
    }
  },
  "cells": [
    {
      "cell_type": "code",
      "source": [
        "# Install required libraries\n",
        "!pip install PyPDF2\n",
        "\n",
        "import pandas as pd\n",
        "import json\n",
        "from PyPDF2 import PdfReader\n"
      ],
      "metadata": {
        "colab": {
          "base_uri": "https://localhost:8080/"
        },
        "id": "wzet6QkZAM7O",
        "outputId": "21e14b04-b207-4c74-8a0b-6e92d04b5597"
      },
      "execution_count": 1,
      "outputs": [
        {
          "output_type": "stream",
          "name": "stdout",
          "text": [
            "Collecting PyPDF2\n",
            "  Downloading pypdf2-3.0.1-py3-none-any.whl.metadata (6.8 kB)\n",
            "Downloading pypdf2-3.0.1-py3-none-any.whl (232 kB)\n",
            "\u001b[?25l   \u001b[90m━━━━━━━━━━━━━━━━━━━━━━━━━━━━━━━━━━━━━━━━\u001b[0m \u001b[32m0.0/232.6 kB\u001b[0m \u001b[31m?\u001b[0m eta \u001b[36m-:--:--\u001b[0m\r\u001b[2K   \u001b[91m━━━━━━━━━━━━━━━━━━━━━\u001b[0m\u001b[90m╺\u001b[0m\u001b[90m━━━━━━━━━━━━━━━━━━\u001b[0m \u001b[32m122.9/232.6 kB\u001b[0m \u001b[31m3.3 MB/s\u001b[0m eta \u001b[36m0:00:01\u001b[0m\r\u001b[2K   \u001b[90m━━━━━━━━━━━━━━━━━━━━━━━━━━━━━━━━━━━━━━━━\u001b[0m \u001b[32m232.6/232.6 kB\u001b[0m \u001b[31m3.8 MB/s\u001b[0m eta \u001b[36m0:00:00\u001b[0m\n",
            "\u001b[?25hInstalling collected packages: PyPDF2\n",
            "Successfully installed PyPDF2-3.0.1\n"
          ]
        }
      ]
    },
    {
      "cell_type": "code",
      "source": [
        "# Step 1: Upload and extract text from PDF\n",
        "from google.colab import files\n",
        "\n",
        "\n",
        "\n",
        "# Get the uploaded file path\n",
        "pdf_path = \"/content/FORM 1040 Instructions.pdf\"\n",
        "\n",
        "# Step 2: Extract text from the uploaded PDF\n",
        "from PyPDF2 import PdfReader\n",
        "\n",
        "def extract_text_from_pdf(pdf_path):\n",
        "    reader = PdfReader(pdf_path)\n",
        "    text = []\n",
        "    for page in reader.pages:\n",
        "        text.append(page.extract_text())\n",
        "    return \"\\n\".join(text)\n",
        "\n",
        "# Extract text\n",
        "pdf_text = extract_text_from_pdf(pdf_path)"
      ],
      "metadata": {
        "id": "zAV4UUrSAM-V"
      },
      "execution_count": 3,
      "outputs": []
    },
    {
      "cell_type": "code",
      "source": [],
      "metadata": {
        "id": "QuwRDKtwCvcx"
      },
      "execution_count": 9,
      "outputs": []
    },
    {
      "cell_type": "code",
      "source": [
        "# Step 2: Save extracted text to JSONL\n",
        "filename = \"Raw_Data.jsonl\"\n",
        "data = [{\"question\": f\"What is on page {i + 1}?\", \"answer\": page_text}\n",
        "        for i, page_text in enumerate(pdf_text.split(\"\\n\\n\"))]  # Splitting pages for example\n",
        "with open(filename, \"w\") as jsonl_file:\n",
        "    for item in data:\n",
        "        jsonl_file.write(json.dumps(item) + \"\\n\")"
      ],
      "metadata": {
        "id": "PrRCbnFBANAa"
      },
      "execution_count": 4,
      "outputs": []
    },
    {
      "cell_type": "code",
      "source": [
        "# Step 3: Load the JSONL as DataFrame\n",
        "instruction_dataset_df = pd.read_json(filename, lines=True)\n",
        "examples = instruction_dataset_df.to_dict()\n"
      ],
      "metadata": {
        "id": "0WFK6BpgANCV"
      },
      "execution_count": 5,
      "outputs": []
    },
    {
      "cell_type": "code",
      "source": [
        "# Step 4: Construct fine-tuning dataset\n",
        "if \"question\" in examples and \"answer\" in examples:\n",
        "    text = examples[\"question\"][0] + examples[\"answer\"][0]\n",
        "elif \"instruction\" in examples and \"response\" in examples:\n",
        "    text = examples[\"instruction\"][0] + examples[\"response\"][0]\n",
        "elif \"input\" in examples and \"output\" in examples:\n",
        "    text = examples[\"input\"][0] + examples[\"output\"][0]\n",
        "else:\n",
        "    text = examples[\"text\"][0]\n",
        "\n",
        "prompt_template = \"\"\"### Question:\n",
        "{question}\n",
        "\n",
        "### Answer:\"\"\"\n",
        "\n",
        "num_examples = len(examples[\"question\"])\n",
        "finetuning_dataset = []\n",
        "for i in range(num_examples):\n",
        "    question = examples[\"question\"][i]\n",
        "    answer = examples[\"answer\"][i]\n",
        "    text_with_prompt_template = prompt_template.format(question=question)\n",
        "    finetuning_dataset.append({\"question\": text_with_prompt_template, \"answer\": answer})\n"
      ],
      "metadata": {
        "id": "tAdVAnm3AfJh"
      },
      "execution_count": 6,
      "outputs": []
    },
    {
      "cell_type": "code",
      "source": [],
      "metadata": {
        "id": "9Udm9JT_AfOr"
      },
      "execution_count": null,
      "outputs": []
    }
  ]
}